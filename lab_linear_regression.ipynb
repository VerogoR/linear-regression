{
  "cells": [
    {
      "cell_type": "markdown",
      "metadata": {
        "id": "vM2qvrrgj0m-"
      },
      "source": [
        "# Линейная регрессия"
      ]
    },
    {
      "cell_type": "markdown",
      "metadata": {
        "id": "uJ2uTMiPj0m_"
      },
      "source": [
        "## 1. Поиск градиента\n",
        "\n",
        "Продолжить формулу для взятия векторной производной по х для функции квадрата ошибки <br>(в красивом формате со всеми значками угловых скобок, операторов и т. д.). После выполнения этого вы вспомните формулу градиента для квадратичной ошибки и поймете как писать формулы на языке математической верстки TeX\n",
        "\n",
        "Преобразование 1: $$ <a,b> = a^Tb $$\n",
        "Преобразование 2: $$ (AB)^T=B^TA^T $$\n",
        "Решение:\n",
        "\n",
        "$$ f(x) = ||Ax-y||^2 = (Ax-y)^T(Ax-y) $$\n",
        "$$ D_f(x) = d<Ax-y, Ax-y> = <d(Ax-y), (Ax-y)> + <(Ax-y), d(Ax-y)> = 2<Ax-y, d(Ax-y)> = 2<Ax-y, Adx> =^1 2(Ax-y)^TAdx = 2((Ax-y)^TA)^{TT}dx =^2 2(A^T(Ax-y))^Tdx =^1 <2A^T(Ax-y), dx> = <\\nabla f, dx>$$\n",
        "$$ \\nabla f(x) = 2A^T(Ax-y) $$\n"
      ]
    },
    {
      "cell_type": "markdown",
      "metadata": {
        "id": "EV4nLtw-j0nA"
      },
      "source": [
        "## 2. Прямое решение через ноль производной\n",
        "\n",
        "После пункта 1 у вас есть формула для градиента квадратичной функции ошибки. Она измеряет уровень \"неверности\" решения (вектора $\\vec{x}$). Теперь её надо приравнять к 0 и построить формулу, чтобы узнать при каком x это происходит.\n",
        "\n",
        "$$ \\nabla f(x) = 2A^T(Ax-y) = 0 => A^T(Ax-y) = 0 => A^TAx - A^Ty = 0 => A^TAx = A^Ty => x = (A^TA)^{-1}A^Ty$$\n",
        "$$ x = (A^TA)^{-1}A^Ty $$"
      ]
    },
    {
      "cell_type": "markdown",
      "metadata": {
        "id": "f_faHHE2j0nA"
      },
      "source": [
        "### 2.1 Реализация прямого решения"
      ]
    },
    {
      "cell_type": "code",
      "execution_count": null,
      "metadata": {
        "id": "8b_pT8ojj0nA"
      },
      "outputs": [],
      "source": [
        "import numpy as np\n",
        "import matplotlib.pyplot as plt"
      ]
    },
    {
      "cell_type": "code",
      "execution_count": null,
      "metadata": {
        "colab": {
          "base_uri": "https://localhost:8080/",
          "height": 599
        },
        "id": "DgO1FH8Tj0nB",
        "outputId": "2a0b0457-0bd7-47b6-b278-15eff8a04d46"
      },
      "outputs": [
        {
          "output_type": "display_data",
          "data": {
            "text/plain": [
              "<Figure size 700x700 with 1 Axes>"
            ],
            "image/png": "[encoded data removed]"
          },
          "metadata": {}
        }
      ],
      "source": [
        "# ваши параметры по вариантам\n",
        "a_orig = ((-1)**3)*0.1*3 # по формуле (-1)^n * 0.1 * n, n - номер в списке группы\n",
        "b_orig = 3*(-1)**(4) # по формуле n*(-1)^(n+1), где n - номер в списке группы\n",
        "random_state = 3 # х, где х - номер в списке группы\n",
        "\n",
        "# это тот самый столбец который мы и должны отыскать будем нашими методами.\n",
        "# сейчас конечно мы его знаем наперед потому что нам надо создать данные\n",
        "# но в жизни мы изначально этих чисел не знаем и в жизни задача в том чтобы их найти\n",
        "x_orig = np.array([a_orig, b_orig])\n",
        "\n",
        "np.random.seed(random_state)\n",
        "\n",
        "A = np.stack([np.arange(0, 25), np.ones(25)]).T\n",
        "\n",
        "# @ - операция матричного умножения в библиотеке NumPy\n",
        "y = A @ x_orig + np.random.standard_normal(25)\n",
        "# добавили нормально распределённого шума в данных\n",
        "# этим система станет несовместна для обычного решения\n",
        "\n",
        "f, ax = plt.subplots(figsize=(7, 7))\n",
        "\n",
        "# A[:, 0] - выбрать первый столбец, A[0, :] - выбрать первую строку\n",
        "plt.scatter(A[:, 0], y)\n",
        "\n",
        "ax.set_xlim(-25, 25)\n",
        "ax.set_ylim(-25, 25)\n",
        "# рисуем координатные оси\n",
        "ax.axvline(0, color=\"black\")\n",
        "ax.axhline(0, color=\"black\")\n",
        "ax.grid(True)"
      ]
    },
    {
      "cell_type": "code",
      "execution_count": null,
      "metadata": {
        "colab": {
          "base_uri": "https://localhost:8080/"
        },
        "id": "00SpSGmzj0nB",
        "outputId": "dd7a18f0-d355-4586-eedc-30757e4ee74d"
      },
      "outputs": [
        {
          "output_type": "execute_result",
          "data": {
            "text/plain": [
              "(array([[ 0.,  1.],\n",
              "        [ 1.,  1.],\n",
              "        [ 2.,  1.],\n",
              "        [ 3.,  1.],\n",
              "        [ 4.,  1.],\n",
              "        [ 5.,  1.],\n",
              "        [ 6.,  1.],\n",
              "        [ 7.,  1.],\n",
              "        [ 8.,  1.],\n",
              "        [ 9.,  1.],\n",
              "        [10.,  1.],\n",
              "        [11.,  1.],\n",
              "        [12.,  1.],\n",
              "        [13.,  1.],\n",
              "        [14.,  1.],\n",
              "        [15.,  1.],\n",
              "        [16.,  1.],\n",
              "        [17.,  1.],\n",
              "        [18.,  1.],\n",
              "        [19.,  1.],\n",
              "        [20.,  1.],\n",
              "        [21.,  1.],\n",
              "        [22.,  1.],\n",
              "        [23.,  1.],\n",
              "        [24.,  1.]]),\n",
              " array([ 4.78862847,  3.13650985,  2.49649747,  0.2365073 ,  1.5226118 ,\n",
              "         1.14524102,  1.11725852,  0.27299932,  0.55618183, -0.17721803,\n",
              "        -1.31386475,  0.58462238,  0.28131804,  0.80957306, -1.14996636,\n",
              "        -1.90467741, -2.34535995, -3.64647732, -1.41763257, -3.80106763,\n",
              "        -4.18504653, -3.5056499 , -2.11385164, -3.66328373, -5.22378514]))"
            ]
          },
          "metadata": {},
          "execution_count": 4
        }
      ],
      "source": [
        "A, y"
      ]
    },
    {
      "cell_type": "markdown",
      "metadata": {
        "id": "LyVJoSADj0nC"
      },
      "source": [
        "### Вопрос - зачем был дописан вектор единиц справа к иксу?\n",
        "\n",
        "ответ - в формуле линейной регрессии присутствует свободный член bias, мы его дописываем к матрице с иксами, чтобы при подборе весов итоговая формулы выглядела $$w_1*x1+w_2*x2+...+bias=y$$"
      ]
    },
    {
      "cell_type": "code",
      "execution_count": null,
      "metadata": {
        "colab": {
          "base_uri": "https://localhost:8080/"
        },
        "id": "RXE3ic5Qj0nC",
        "outputId": "c0e3eb2a-97f6-4fa2-b521-3285b47f34c8"
      },
      "outputs": [
        {
          "output_type": "execute_result",
          "data": {
            "text/plain": [
              "array([-0.31235196,  3.04822629])"
            ]
          },
          "metadata": {},
          "execution_count": 5
        }
      ],
      "source": [
        "# допишите код для поиска a и b через 0 производной и выведите какой вышел результат\n",
        "a_b_analytical = np.linalg.inv(A.T @ A)@A.T@y\n",
        "a_b_analytical"
      ]
    },
    {
      "cell_type": "code",
      "execution_count": null,
      "metadata": {
        "colab": {
          "base_uri": "https://localhost:8080/",
          "height": 617
        },
        "id": "qFR0c_Qjj0nC",
        "outputId": "b7612e7e-4da9-44f8-ac14-43c94cdb20a0"
      },
      "outputs": [
        {
          "output_type": "execute_result",
          "data": {
            "text/plain": [
              "[<matplotlib.lines.Line2D at 0x7ab9e0587e10>]"
            ]
          },
          "metadata": {},
          "execution_count": 6
        },
        {
          "output_type": "display_data",
          "data": {
            "text/plain": [
              "<Figure size 700x700 with 1 Axes>"
            ],
            "image/png": "[encoded data removed]"
          },
          "metadata": {}
        }
      ],
      "source": [
        "# постройте линию которая вышла рядом с изначальными данными\n",
        "\n",
        "\n",
        "# изначальные данные\n",
        "f, ax = plt.subplots(figsize=(7, 7))\n",
        "\n",
        "plt.scatter(A[:, 0], y)\n",
        "ax.set_xlim(-25, 25)\n",
        "ax.set_ylim(-25, 25)\n",
        "ax.axvline(0, color='black')\n",
        "ax.axhline(0, color='black')\n",
        "ax.grid(True)\n",
        "\n",
        "# линия которая обучилась\n",
        "# нужно вместо троеточий подсчитать значения y которые\n",
        "# получаются при полученных параметрах линии\n",
        "# в точках x1 = -25, x2 = 25, этим мы построим линию по 2 точкам\n",
        "x_line = np.array([-25, 25])\n",
        "y_line = a_b_analytical[0] * x_line + a_b_analytical[1]\n",
        "ax.plot(x_line, y_line)"
      ]
    },
    {
      "cell_type": "markdown",
      "metadata": {
        "id": "VPmRp2zij0nC"
      },
      "source": [
        "## 2. Решение с помощью градиентного спуска\n",
        "\n",
        "С помощью найденных выше формул градиента, совершить шаги градиентного спуска для тех же данных.<br>\n",
        "Подобрать значение $\\alpha$, чтобы на графиках была видна сходимость за 10 шагов.<br> Начинаем с параметров 0, 0"
      ]
    },
    {
      "cell_type": "code",
      "execution_count": null,
      "metadata": {
        "colab": {
          "base_uri": "https://localhost:8080/"
        },
        "id": "CFf2KrAtj0nD",
        "outputId": "e8ac7a2a-5e1b-4e52-b658-15259b3c390a"
      },
      "outputs": [
        {
          "output_type": "execute_result",
          "data": {
            "text/plain": [
              "array([ 4.78862847,  3.13650985,  2.49649747,  0.2365073 ,  1.5226118 ,\n",
              "        1.14524102,  1.11725852,  0.27299932,  0.55618183, -0.17721803,\n",
              "       -1.31386475,  0.58462238,  0.28131804,  0.80957306, -1.14996636,\n",
              "       -1.90467741, -2.34535995, -3.64647732, -1.41763257, -3.80106763,\n",
              "       -4.18504653, -3.5056499 , -2.11385164, -3.66328373, -5.22378514])"
            ]
          },
          "metadata": {},
          "execution_count": 7
        }
      ],
      "source": [
        "y"
      ]
    },
    {
      "cell_type": "code",
      "execution_count": null,
      "metadata": {
        "colab": {
          "base_uri": "https://localhost:8080/",
          "height": 640
        },
        "id": "dR3YYL4Tj0nD",
        "outputId": "9a0697e6-8403-43a4-b4a0-9aa0e50e980e"
      },
      "outputs": [
        {
          "output_type": "stream",
          "name": "stdout",
          "text": [
            "[44.10580541 33.89753067]\n"
          ]
        },
        {
          "output_type": "display_data",
          "data": {
            "text/plain": [
              "<Figure size 700x700 with 1 Axes>"
            ],
            "image/png": "[encoded data removed]"
          },
          "metadata": {}
        }
      ],
      "source": [
        "alpha = 0.0002\n",
        "\n",
        "a_b_analytical = np.array([0.0, 0.0])\n",
        "\n",
        "for i in range(100):\n",
        "    # получаем градиент\n",
        "    grad = 2 * A.T @ (A @ a_b_analytical - y)\n",
        "    # получаем антиградиент\n",
        "    antigrad = -grad\n",
        "    # обновляем наши параметры линии\n",
        "    a_b_analytical += alpha * antigrad\n",
        "\n",
        "# рисуем результат текущего шага\n",
        "print(antigrad)\n",
        "#  - изначальные данные\n",
        "f, ax = plt.subplots(figsize=(7, 7))\n",
        "\n",
        "plt.scatter(A[:, 0], y)\n",
        "ax.set_xlim(-25, 25)\n",
        "ax.set_ylim(-25, 25)\n",
        "ax.axvline(0, color='black')\n",
        "ax.axhline(0, color='black')\n",
        "ax.grid(True)\n",
        "x_line = np.array([-25, 25])\n",
        "y_line = a_b_analytical[0] * x_line + a_b_analytical[1]\n",
        "\n",
        "# Рисуем линию\n",
        "plt.plot(x_line, y_line, 'r-', linewidth=2,\n",
        "            label=f'y = {a_b_analytical[0]:.3f}x + {a_b_analytical[1]:.3f}')\n",
        "plt.legend()\n",
        "# - линия которая обучилась\n",
        "ax.set_title(f'Линия по данным после шага {i+1}')\n",
        "plt.show()"
      ]
    }
  ],
  "metadata": {
    "colab": {
      "provenance": []
    },
    "kernelspec": {
      "display_name": "mykerenv",
      "language": "python",
      "name": "python3"
    },
    "language_info": {
      "codemirror_mode": {
        "name": "ipython",
        "version": 3
      },
      "file_extension": ".py",
      "mimetype": "text/x-python",
      "name": "python",
      "nbconvert_exporter": "python",
      "pygments_lexer": "ipython3",
      "version": "3.10.16"
    }
  },
  "nbformat": 4,
  "nbformat_minor": 0
}